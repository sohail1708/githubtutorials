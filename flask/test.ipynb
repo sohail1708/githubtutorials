{
 "cells": [
  {
   "cell_type": "code",
   "execution_count": 2,
   "id": "d8c39d83",
   "metadata": {},
   "outputs": [],
   "source": [
    "from my_math.addition import add"
   ]
  },
  {
   "cell_type": "code",
   "execution_count": 3,
   "id": "9bdf204a",
   "metadata": {},
   "outputs": [
    {
     "data": {
      "text/plain": [
       "13"
      ]
     },
     "execution_count": 3,
     "metadata": {},
     "output_type": "execute_result"
    }
   ],
   "source": [
    "add(4,9)"
   ]
  },
  {
   "cell_type": "code",
   "execution_count": null,
   "id": "ee8a0285",
   "metadata": {},
   "outputs": [],
   "source": [
    "# data serialization is a process of converting python objects into storeble/transmitable formats"
   ]
  }
 ],
 "metadata": {
  "kernelspec": {
   "display_name": ".venv",
   "language": "python",
   "name": "python3"
  },
  "language_info": {
   "codemirror_mode": {
    "name": "ipython",
    "version": 3
   },
   "file_extension": ".py",
   "mimetype": "text/x-python",
   "name": "python",
   "nbconvert_exporter": "python",
   "pygments_lexer": "ipython3",
   "version": "3.9.6"
  }
 },
 "nbformat": 4,
 "nbformat_minor": 5
}
